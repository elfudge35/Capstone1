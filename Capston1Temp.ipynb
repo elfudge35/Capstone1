{
 "cells": [
  {
   "cell_type": "code",
   "execution_count": 8,
   "metadata": {},
   "outputs": [
    {
     "name": "stdout",
     "output_type": "stream",
     "text": [
      "<class 'pandas.core.frame.DataFrame'>\n",
      "Int64Index: 592064 entries, 0 to 598292\n",
      "Data columns (total 22 columns):\n",
      "FID              592064 non-null int64\n",
      "FighterID        592064 non-null object\n",
      "Fighter          592064 non-null object\n",
      "Birthdate        591333 non-null object\n",
      "Height           591333 non-null float64\n",
      "Weight           592039 non-null float64\n",
      "Result           592064 non-null object\n",
      "OID              591875 non-null float64\n",
      "OpponentID       591875 non-null object\n",
      "Opponent         591875 non-null object\n",
      "Method           586509 non-null object\n",
      "EventID          591144 non-null object\n",
      "Event            591875 non-null object\n",
      "Date             592064 non-null datetime64[ns]\n",
      "Round            591875 non-null float64\n",
      "Time             571939 non-null object\n",
      "Referee          261028 non-null object\n",
      "MethodClean      586487 non-null category\n",
      "TotalTime        255491 non-null float64\n",
      "AdjustedRound    255491 non-null float64\n",
      "AdjustedTime     255491 non-null object\n",
      "IDMerge          591875 non-null float64\n",
      "dtypes: category(1), datetime64[ns](1), float64(7), int64(1), object(12)\n",
      "memory usage: 99.9+ MB\n",
      "   FID       FighterID       Fighter            Birthdate  Height  Weight  \\\n",
      "0    4  Ken-Shamrock-4  Ken Shamrock  1964-02-11 00:00:00    73.0   212.0   \n",
      "1    4  Ken-Shamrock-4  Ken Shamrock  1964-02-11 00:00:00    73.0   212.0   \n",
      "2    4  Ken-Shamrock-4  Ken Shamrock  1964-02-11 00:00:00    73.0   212.0   \n",
      "3    4  Ken-Shamrock-4  Ken Shamrock  1964-02-11 00:00:00    73.0   212.0   \n",
      "4    4  Ken-Shamrock-4  Ken Shamrock  1964-02-11 00:00:00    73.0   212.0   \n",
      "\n",
      "  Result    OID           OpponentID          Opponent  ...  \\\n",
      "0   loss  158.0       Tito-Ortiz-158        Tito Ortiz  ...   \n",
      "1   loss   84.0  Kazushi-Sakuraba-84  Kazushi Sakuraba  ...   \n",
      "2   loss  392.0    Rich-Franklin-392     Rich Franklin  ...   \n",
      "3    win   43.0     Kimo-Leopoldo-43     Kimo Leopoldo  ...   \n",
      "4   loss  158.0       Tito-Ortiz-158        Tito Ortiz  ...   \n",
      "\n",
      "                                 Event       Date Round   Time    Referee  \\\n",
      "0               UFC 61 - Bitter Rivals 2006-07-08   1.0  01:18  Herb Dean   \n",
      "1              Pride 30 - Fully Loaded 2005-10-23   1.0  02:27        NaN   \n",
      "2  UFC - The Ultimate Fighter 1 Finale 2005-04-09   1.0  02:42        NaN   \n",
      "3                     UFC 48 - Payback 2004-06-19   1.0  01:26        NaN   \n",
      "4                    UFC 40 - Vendetta 2002-11-22   3.0  05:00        NaN   \n",
      "\n",
      "  MethodClean TotalTime AdjustedRound  AdjustedTime  IDMerge  \n",
      "0          KO       1.3           1.0         01:18    162.0  \n",
      "1          KO       NaN           NaN           NaN     88.0  \n",
      "2          KO       NaN           NaN           NaN    396.0  \n",
      "3          KO       NaN           NaN           NaN     47.0  \n",
      "4          KO       NaN           NaN           NaN    162.0  \n",
      "\n",
      "[5 rows x 22 columns]\n"
     ]
    }
   ],
   "source": [
    "import pandas as pd\n",
    "import numpy as np\n",
    "file = 'fighterdata.txt'\n",
    "df = pd.read_csv(file, delimiter='\\t', encoding='latin-1').dropna(subset=['Result', 'Date'])\n",
    "df[\"Date\"]=pd.to_datetime(df[\"Date\"])\n",
    "df[\"MethodClean\"] = df[\"MethodClean\"].astype(\"category\")\n",
    "df[\"IDMerge\"] = df[\"FID\"] + df[\"OID\"]\n",
    "df.info()\n",
    "print(df.head())"
   ]
  },
  {
   "cell_type": "code",
   "execution_count": 9,
   "metadata": {},
   "outputs": [
    {
     "name": "stdout",
     "output_type": "stream",
     "text": [
      "             Referee                                   EventID  \\\n",
      "0          Herb Dean                 UFC-61-Bitter-Rivals-3910   \n",
      "8   Akira Okabayashi  Pride-FC-Pride-Grand-Prix-2000-Finals-55   \n",
      "9      John McCarthy             UFC-Ultimate-Ultimate-1996-19   \n",
      "10     John McCarthy               UFC-9-Motor-City-Madness-16   \n",
      "11     John McCarthy                 UFC-8-David-vs-Goliath-15   \n",
      "\n",
      "                                       Event  IDMerge       Date  Round  \\\n",
      "0                     UFC 61 - Bitter Rivals    162.0 2006-07-08    1.0   \n",
      "8   Pride FC - Pride Grand Prix 2000: Finals      9.0 2000-05-01    1.0   \n",
      "9               UFC - Ultimate Ultimate 1996    141.0 1996-12-07    1.0   \n",
      "10                UFC 9 - Motor City Madness     56.0 1996-05-17    1.0   \n",
      "11                 UFC 8 - David vs. Goliath     47.0 1996-02-16    1.0   \n",
      "\n",
      "     Time MethodClean  TotalTime  \n",
      "0   01:18          KO       1.30  \n",
      "8   09:43          KO       9.72  \n",
      "9   05:48  Submission       5.80  \n",
      "10  30:00    Decision      15.00  \n",
      "11  04:24  Submission       4.40  \n"
     ]
    }
   ],
   "source": [
    "refdf = df[['Referee', 'EventID', 'Event', 'IDMerge', 'Date', 'Round', 'Time', 'MethodClean', 'TotalTime']].dropna().drop_duplicates()\n",
    "print(refdf.head())"
   ]
  },
  {
   "cell_type": "code",
   "execution_count": 10,
   "metadata": {},
   "outputs": [
    {
     "name": "stdout",
     "output_type": "stream",
     "text": [
      "                  Fights   AvgTime\n",
      "Referee                           \n",
      "AJ Aski              1.0  3.770000\n",
      "AJ Jeffery          34.0  4.605882\n",
      "AJ Jeffrey           3.0  0.786667\n",
      "Aaron Brounstein    13.0  5.554615\n",
      "Aaron Cota           4.0  3.917500\n"
     ]
    }
   ],
   "source": [
    "ref_summary = pd.pivot_table(refdf, index=\"Referee\", values=\"TotalTime\", aggfunc=[len, np.mean])\n",
    "ref_summary.columns = ('Fights', 'AvgTime')\n",
    "print(ref_summary.head())"
   ]
  },
  {
   "cell_type": "code",
   "execution_count": 4,
   "metadata": {},
   "outputs": [
    {
     "name": "stdout",
     "output_type": "stream",
     "text": [
      "       Fights    AvgTime\n",
      "1993    133.0   3.994643\n",
      "1994    291.0   5.583400\n",
      "1995    781.0   8.261565\n",
      "1996   1440.0  11.147178\n",
      "1997   2075.0   8.687406\n",
      "1998   2894.0  12.070615\n",
      "1999   4455.0   9.344815\n",
      "2000   5446.0   9.780306\n",
      "2001   6608.0   6.902254\n",
      "2002   8386.0   8.162857\n",
      "2003  11783.0   8.568406\n",
      "2004  12765.0   7.614555\n",
      "2005  15426.0   6.736929\n",
      "2006  23013.0   6.605136\n",
      "2007  28695.0   6.443930\n",
      "2008  29143.0   6.607022\n",
      "2009  35487.0   6.667530\n",
      "2010  40482.0   7.175093\n",
      "2011  41135.0   7.312424\n",
      "2012  45079.0   7.055524\n",
      "2013  45673.0   7.084571\n",
      "2014  42462.0   7.260793\n",
      "2015  43147.0   7.109466\n",
      "2016  42587.0   7.594385\n",
      "2017  40749.0   7.624990\n",
      "2018  35268.0   7.892075\n",
      "2019  26176.0   8.280867\n"
     ]
    },
    {
     "name": "stderr",
     "output_type": "stream",
     "text": [
      "C:\\ProgramData\\Anaconda3\\lib\\site-packages\\pandas\\core\\reshape\\pivot.py:42: FutureWarning: Sorting because non-concatenation axis is not aligned. A future version\n",
      "of pandas will change to not sort by default.\n",
      "\n",
      "To accept the future behavior, pass 'sort=False'.\n",
      "\n",
      "To retain the current behavior and silence the warning, pass 'sort=True'.\n",
      "\n",
      "  return concat(pieces, keys=keys, axis=1)\n"
     ]
    }
   ],
   "source": [
    "df[\"Month\"] = df[\"Date\"].dt.strftime('%Y-%m')\n",
    "df[\"Year\"] = df[\"Date\"].dt.strftime('%Y')\n",
    "finish_history = pd.pivot_table(df, index=\"Year\", values=\"TotalTime\", aggfunc=[len, np.mean], sort=True)\n",
    "finish_history.columns = ('Fights', 'AvgTime')\n",
    "finish_history = finish_history.dropna()\n",
    "print(finish_history)"
   ]
  },
  {
   "cell_type": "code",
   "execution_count": 11,
   "metadata": {},
   "outputs": [
    {
     "data": {
      "image/png": "[encoded data removed]",
      "text/plain": [
       "<Figure size 1080x576 with 2 Axes>"
      ]
     },
     "metadata": {
      "needs_background": "light"
     },
     "output_type": "display_data"
    }
   ],
   "source": [
    "import matplotlib.pyplot as plt\n",
    "import seaborn as sns\n",
    "#plt.axes([1993, 1995, 2000, 2005, 2010, 2015, 2019])\n",
    "fig, ax = plt.subplots(nrows=2, sharex=True, figsize=(15,8))\n",
    "ax[0].plot(finish_history.AvgTime)\n",
    "ax[0].title.set_text('Fight Time by Year')\n",
    "\n",
    "ax[1].bar(finish_history.index, finish_history.Fights)\n",
    "ax[1].title.set_text('Total Fights per Year')\n",
    "\n",
    "#plt.tight_layout()\n",
    "plt.show()"
   ]
  },
  {
   "cell_type": "code",
   "execution_count": 14,
   "metadata": {},
   "outputs": [
    {
     "data": {
      "image/png": "[encoded data removed]",
      "text/plain": [
       "<Figure size 432x288 with 1 Axes>"
      ]
     },
     "metadata": {
      "needs_background": "light"
     },
     "output_type": "display_data"
    }
   ],
   "source": [
    "plt.scatter(ref_summary['Fights'], ref_summary['AvgTime'], s=2)\n",
    "plt.show()"
   ]
  },
  {
   "cell_type": "code",
   "execution_count": null,
   "metadata": {},
   "outputs": [],
   "source": []
  }
 ],
 "metadata": {
  "kernelspec": {
   "display_name": "Python 3",
   "language": "python",
   "name": "python3"
  },
  "language_info": {
   "codemirror_mode": {
    "name": "ipython",
    "version": 3
   },
   "file_extension": ".py",
   "mimetype": "text/x-python",
   "name": "python",
   "nbconvert_exporter": "python",
   "pygments_lexer": "ipython3",
   "version": "3.7.3"
  }
 },
 "nbformat": 4,
 "nbformat_minor": 2
}
